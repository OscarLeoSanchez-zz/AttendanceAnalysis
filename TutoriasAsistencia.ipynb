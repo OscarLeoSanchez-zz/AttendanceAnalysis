{
  "nbformat": 4,
  "nbformat_minor": 0,
  "metadata": {
    "colab": {
      "name": "TutoriasAsistencia.ipynb",
      "provenance": [],
      "authorship_tag": "ABX9TyNuzhVCLFcD+m03jm+zyj9S",
      "include_colab_link": true
    },
    "kernelspec": {
      "name": "python3",
      "display_name": "Python 3"
    },
    "language_info": {
      "name": "python"
    }
  },
  "cells": [
    {
      "cell_type": "markdown",
      "metadata": {
        "id": "view-in-github",
        "colab_type": "text"
      },
      "source": [
        "<a href=\"https://colab.research.google.com/github/OscarLeoSanchez/AttendanceAnalysis/blob/main/TutoriasAsistencia.ipynb\" target=\"_parent\"><img src=\"https://colab.research.google.com/assets/colab-badge.svg\" alt=\"Open In Colab\"/></a>"
      ]
    },
    {
      "cell_type": "code",
      "metadata": {
        "id": "af750ra5WP-C"
      },
      "source": [
        "import pandas as pd\n",
        "import numpy as np\n",
        "import matplotlib.pyplot as plt\n",
        "\n",
        "\n",
        "url = 'https://docs.google.com/spreadsheets/d/e/2PACX-1vQ8ytIQY5R6ZOcXtlAhC9IrIyhZwq9ZvZypMHNn9uiUaaCk3ysAXHhWtS3bRtJ1Wr7EMaGFBuxLbn80/pub?gid=741721663&single=true&output=csv'\n",
        "df = pd.read_csv(url)\n",
        "df['Fecha'] = pd.to_datetime(df['Fecha'],  infer_datetime_format=True)#format=\"%d/%m/%Y\",\n",
        "# df.set_index('Fecha', inplace=True)\n",
        "df = df.sort_values([\"Fecha\"])"
      ],
      "execution_count": 41,
      "outputs": []
    },
    {
      "cell_type": "markdown",
      "metadata": {
        "id": "cK1gR346xicq"
      },
      "source": [
        "Asistencias registrada de cada usuario con cada tutor"
      ]
    },
    {
      "cell_type": "code",
      "metadata": {
        "colab": {
          "base_uri": "https://localhost:8080/",
          "height": 454
        },
        "id": "Ob6WOJZMUNos",
        "outputId": "fbe1b142-fc0e-4986-ac4e-f09b9d514bab"
      },
      "source": [
        "agrup=df.groupby(['Tutor','Usuario']).agg({'Usuario':'size'})\n",
        "agrup.columns=['tutorias']\n",
        "agrup"
      ],
      "execution_count": 27,
      "outputs": [
        {
          "output_type": "execute_result",
          "data": {
            "text/html": [
              "<div>\n",
              "<style scoped>\n",
              "    .dataframe tbody tr th:only-of-type {\n",
              "        vertical-align: middle;\n",
              "    }\n",
              "\n",
              "    .dataframe tbody tr th {\n",
              "        vertical-align: top;\n",
              "    }\n",
              "\n",
              "    .dataframe thead th {\n",
              "        text-align: right;\n",
              "    }\n",
              "</style>\n",
              "<table border=\"1\" class=\"dataframe\">\n",
              "  <thead>\n",
              "    <tr style=\"text-align: right;\">\n",
              "      <th></th>\n",
              "      <th></th>\n",
              "      <th>tutorias</th>\n",
              "    </tr>\n",
              "    <tr>\n",
              "      <th>Tutor</th>\n",
              "      <th>Usuario</th>\n",
              "      <th></th>\n",
              "    </tr>\n",
              "  </thead>\n",
              "  <tbody>\n",
              "    <tr>\n",
              "      <th rowspan=\"5\" valign=\"top\">Angy Hidalgo Madrid</th>\n",
              "      <th>agarzonme</th>\n",
              "      <td>29</td>\n",
              "    </tr>\n",
              "    <tr>\n",
              "      <th>anriascosc</th>\n",
              "      <td>3</td>\n",
              "    </tr>\n",
              "    <tr>\n",
              "      <th>avaquiro</th>\n",
              "      <td>8</td>\n",
              "    </tr>\n",
              "    <tr>\n",
              "      <th>cmunozlo</th>\n",
              "      <td>5</td>\n",
              "    </tr>\n",
              "    <tr>\n",
              "      <th>cpidiachi</th>\n",
              "      <td>2</td>\n",
              "    </tr>\n",
              "    <tr>\n",
              "      <th>...</th>\n",
              "      <th>...</th>\n",
              "      <td>...</td>\n",
              "    </tr>\n",
              "    <tr>\n",
              "      <th rowspan=\"5\" valign=\"top\">William Eduardo Chautá</th>\n",
              "      <th>uvillamarin</th>\n",
              "      <td>1</td>\n",
              "    </tr>\n",
              "    <tr>\n",
              "      <th>wigomezb</th>\n",
              "      <td>1</td>\n",
              "    </tr>\n",
              "    <tr>\n",
              "      <th>ycarrero</th>\n",
              "      <td>5</td>\n",
              "    </tr>\n",
              "    <tr>\n",
              "      <th>ylizarazor</th>\n",
              "      <td>2</td>\n",
              "    </tr>\n",
              "    <tr>\n",
              "      <th>ymogollon</th>\n",
              "      <td>4</td>\n",
              "    </tr>\n",
              "  </tbody>\n",
              "</table>\n",
              "<p>426 rows × 1 columns</p>\n",
              "</div>"
            ],
            "text/plain": [
              "                                    tutorias\n",
              "Tutor                  Usuario              \n",
              "Angy Hidalgo Madrid    agarzonme          29\n",
              "                       anriascosc          3\n",
              "                       avaquiro            8\n",
              "                       cmunozlo            5\n",
              "                       cpidiachi           2\n",
              "...                                      ...\n",
              "William Eduardo Chautá uvillamarin         1\n",
              "                       wigomezb            1\n",
              "                       ycarrero            5\n",
              "                       ylizarazor          2\n",
              "                       ymogollon           4\n",
              "\n",
              "[426 rows x 1 columns]"
            ]
          },
          "metadata": {
            "tags": []
          },
          "execution_count": 27
        }
      ]
    },
    {
      "cell_type": "markdown",
      "metadata": {
        "id": "WULejd8Xx1ts"
      },
      "source": [
        "Usuarios que asitieron a más de 10 tutorías con Angy"
      ]
    },
    {
      "cell_type": "code",
      "metadata": {
        "colab": {
          "base_uri": "https://localhost:8080/",
          "height": 205
        },
        "id": "dWfAn6BwxSrV",
        "outputId": "f5fa2a9d-ddaf-4600-fbf8-02a1df573f15"
      },
      "source": [
        "t1='Angy Hidalgo Madrid'\n",
        "a=agrup.loc[[t1]]\n",
        "a[a['tutorias']>10]"
      ],
      "execution_count": 28,
      "outputs": [
        {
          "output_type": "execute_result",
          "data": {
            "text/html": [
              "<div>\n",
              "<style scoped>\n",
              "    .dataframe tbody tr th:only-of-type {\n",
              "        vertical-align: middle;\n",
              "    }\n",
              "\n",
              "    .dataframe tbody tr th {\n",
              "        vertical-align: top;\n",
              "    }\n",
              "\n",
              "    .dataframe thead th {\n",
              "        text-align: right;\n",
              "    }\n",
              "</style>\n",
              "<table border=\"1\" class=\"dataframe\">\n",
              "  <thead>\n",
              "    <tr style=\"text-align: right;\">\n",
              "      <th></th>\n",
              "      <th></th>\n",
              "      <th>tutorias</th>\n",
              "    </tr>\n",
              "    <tr>\n",
              "      <th>Tutor</th>\n",
              "      <th>Usuario</th>\n",
              "      <th></th>\n",
              "    </tr>\n",
              "  </thead>\n",
              "  <tbody>\n",
              "    <tr>\n",
              "      <th rowspan=\"4\" valign=\"top\">Angy Hidalgo Madrid</th>\n",
              "      <th>agarzonme</th>\n",
              "      <td>29</td>\n",
              "    </tr>\n",
              "    <tr>\n",
              "      <th>fsandoval</th>\n",
              "      <td>12</td>\n",
              "    </tr>\n",
              "    <tr>\n",
              "      <th>jacamachoh</th>\n",
              "      <td>20</td>\n",
              "    </tr>\n",
              "    <tr>\n",
              "      <th>liavilap</th>\n",
              "      <td>19</td>\n",
              "    </tr>\n",
              "  </tbody>\n",
              "</table>\n",
              "</div>"
            ],
            "text/plain": [
              "                                tutorias\n",
              "Tutor               Usuario             \n",
              "Angy Hidalgo Madrid agarzonme         29\n",
              "                    fsandoval         12\n",
              "                    jacamachoh        20\n",
              "                    liavilap          19"
            ]
          },
          "metadata": {
            "tags": []
          },
          "execution_count": 28
        }
      ]
    },
    {
      "cell_type": "markdown",
      "metadata": {
        "id": "d9nh19PXyBdE"
      },
      "source": [
        "Usuarios que asistieron a más de 10 tutorías con Oscar"
      ]
    },
    {
      "cell_type": "code",
      "metadata": {
        "colab": {
          "base_uri": "https://localhost:8080/",
          "height": 175
        },
        "id": "6AqNepDMuw3S",
        "outputId": "8f93ea3f-5cda-4434-af1d-7614737758b8"
      },
      "source": [
        "t2='Oscar Leonel Sánchez'\n",
        "c=agrup.loc[[t2]]\n",
        "c[c['tutorias']>10]"
      ],
      "execution_count": 29,
      "outputs": [
        {
          "output_type": "execute_result",
          "data": {
            "text/html": [
              "<div>\n",
              "<style scoped>\n",
              "    .dataframe tbody tr th:only-of-type {\n",
              "        vertical-align: middle;\n",
              "    }\n",
              "\n",
              "    .dataframe tbody tr th {\n",
              "        vertical-align: top;\n",
              "    }\n",
              "\n",
              "    .dataframe thead th {\n",
              "        text-align: right;\n",
              "    }\n",
              "</style>\n",
              "<table border=\"1\" class=\"dataframe\">\n",
              "  <thead>\n",
              "    <tr style=\"text-align: right;\">\n",
              "      <th></th>\n",
              "      <th></th>\n",
              "      <th>tutorias</th>\n",
              "    </tr>\n",
              "    <tr>\n",
              "      <th>Tutor</th>\n",
              "      <th>Usuario</th>\n",
              "      <th></th>\n",
              "    </tr>\n",
              "  </thead>\n",
              "  <tbody>\n",
              "    <tr>\n",
              "      <th rowspan=\"3\" valign=\"top\">Oscar Leonel Sánchez</th>\n",
              "      <th>cortizan</th>\n",
              "      <td>19</td>\n",
              "    </tr>\n",
              "    <tr>\n",
              "      <th>jacamachoh</th>\n",
              "      <td>27</td>\n",
              "    </tr>\n",
              "    <tr>\n",
              "      <th>magalviss</th>\n",
              "      <td>11</td>\n",
              "    </tr>\n",
              "  </tbody>\n",
              "</table>\n",
              "</div>"
            ],
            "text/plain": [
              "                                 tutorias\n",
              "Tutor                Usuario             \n",
              "Oscar Leonel Sánchez cortizan          19\n",
              "                     jacamachoh        27\n",
              "                     magalviss         11"
            ]
          },
          "metadata": {
            "tags": []
          },
          "execution_count": 29
        }
      ]
    },
    {
      "cell_type": "markdown",
      "metadata": {
        "id": "ua1MSqXVyK3m"
      },
      "source": [
        "Número de estudiantes que asistieron con cada tutor"
      ]
    },
    {
      "cell_type": "code",
      "metadata": {
        "colab": {
          "base_uri": "https://localhost:8080/",
          "height": 393
        },
        "id": "170M51Z2scD2",
        "outputId": "39a9dd1f-5974-471d-a0d7-cd72af327a2b"
      },
      "source": [
        "cols = ['Fecha', 'Usuario', 'Asignatura', 'Motivo de Consulta', 'Tutor','Medio de Tutoría']\n",
        "df = df[cols]\n",
        "dif_student = df.groupby('Tutor').Usuario.nunique().reset_index(name='Num. Estudiantes').set_index('Tutor')\n",
        "dif_student"
      ],
      "execution_count": 30,
      "outputs": [
        {
          "output_type": "execute_result",
          "data": {
            "text/html": [
              "<div>\n",
              "<style scoped>\n",
              "    .dataframe tbody tr th:only-of-type {\n",
              "        vertical-align: middle;\n",
              "    }\n",
              "\n",
              "    .dataframe tbody tr th {\n",
              "        vertical-align: top;\n",
              "    }\n",
              "\n",
              "    .dataframe thead th {\n",
              "        text-align: right;\n",
              "    }\n",
              "</style>\n",
              "<table border=\"1\" class=\"dataframe\">\n",
              "  <thead>\n",
              "    <tr style=\"text-align: right;\">\n",
              "      <th></th>\n",
              "      <th>Num. Estudiantes</th>\n",
              "    </tr>\n",
              "    <tr>\n",
              "      <th>Tutor</th>\n",
              "      <th></th>\n",
              "    </tr>\n",
              "  </thead>\n",
              "  <tbody>\n",
              "    <tr>\n",
              "      <th>Angy Hidalgo Madrid</th>\n",
              "      <td>38</td>\n",
              "    </tr>\n",
              "    <tr>\n",
              "      <th>Carolina Dominguez Sánchez</th>\n",
              "      <td>41</td>\n",
              "    </tr>\n",
              "    <tr>\n",
              "      <th>Dana Paula Ortiz Charry</th>\n",
              "      <td>16</td>\n",
              "    </tr>\n",
              "    <tr>\n",
              "      <th>Daniel Alejandro Saavedra</th>\n",
              "      <td>68</td>\n",
              "    </tr>\n",
              "    <tr>\n",
              "      <th>Daniela Fernanda Herrera</th>\n",
              "      <td>22</td>\n",
              "    </tr>\n",
              "    <tr>\n",
              "      <th>Lida Ángela Burbano</th>\n",
              "      <td>64</td>\n",
              "    </tr>\n",
              "    <tr>\n",
              "      <th>Luis Hinojosa Zambrano</th>\n",
              "      <td>30</td>\n",
              "    </tr>\n",
              "    <tr>\n",
              "      <th>Oscar Leonel Sánchez</th>\n",
              "      <td>43</td>\n",
              "    </tr>\n",
              "    <tr>\n",
              "      <th>Tatiana Bedoya</th>\n",
              "      <td>56</td>\n",
              "    </tr>\n",
              "    <tr>\n",
              "      <th>William Eduardo Chautá</th>\n",
              "      <td>48</td>\n",
              "    </tr>\n",
              "  </tbody>\n",
              "</table>\n",
              "</div>"
            ],
            "text/plain": [
              "                            Num. Estudiantes\n",
              "Tutor                                       \n",
              "Angy Hidalgo Madrid                       38\n",
              "Carolina Dominguez Sánchez                41\n",
              "Dana Paula Ortiz Charry                   16\n",
              "Daniel Alejandro Saavedra                 68\n",
              "Daniela Fernanda Herrera                  22\n",
              "Lida Ángela Burbano                       64\n",
              "Luis Hinojosa Zambrano                    30\n",
              "Oscar Leonel Sánchez                      43\n",
              "Tatiana Bedoya                            56\n",
              "William Eduardo Chautá                    48"
            ]
          },
          "metadata": {
            "tags": []
          },
          "execution_count": 30
        }
      ]
    },
    {
      "cell_type": "markdown",
      "metadata": {
        "id": "O5M_F-LsyY3a"
      },
      "source": [
        "Gráfico de tutorías realizadas por cada tutor"
      ]
    },
    {
      "cell_type": "code",
      "metadata": {
        "colab": {
          "base_uri": "https://localhost:8080/",
          "height": 440
        },
        "id": "mV8999yOuC-9",
        "outputId": "c4053fc5-dc86-42f8-f337-85280fce8c8e"
      },
      "source": [
        "tuto_tutor = df.groupby('Tutor').size().reset_index(name='Tutorias').sort_values('Tutorias', ascending=False).set_index('Tutor')\n",
        "\n",
        "ax = tuto_tutor.plot(kind='bar', color='peru')\n",
        "\n",
        "rects = ax.patches\n",
        "labels = tuto_tutor['Tutorias'].tolist()\n",
        "ax.set_title('Tutorias por Tutor',fontsize=18, color='dimgray', fontweight='bold')\n",
        "ax.set_ylabel('Tutorias', fontsize=16,color='dimgray')\n",
        "ax.set_xlabel('Tutor', fontsize=16,color='dimgray')\n",
        "maximo = tuto_tutor['Tutorias'].max()\n",
        "ax.set_ylim(0, maximo+maximo//6)\n",
        "\n",
        "for rect, label in zip(rects, labels):\n",
        "  height = rect.get_height()\n",
        "  ax.text(rect.get_x()+rect.get_width()/2, height, label, fontsize=12, ha='center', va='bottom', color='darkred')\n",
        "\n",
        "ax.spines['bottom'].set_color('grey')\n",
        "ax.spines['top'].set_color('grey')\n",
        "ax.spines['right'].set_color('grey')\n",
        "ax.spines['left'].set_color('grey')\n",
        "ax.tick_params(axis='y', color='grey')\n",
        "ax.tick_params(axis='x', color='grey')\n",
        "# [t.set_color('red') for t in ax.xaxis.get_ticklines()]\n",
        "[t.set_color('grey') for t in ax.xaxis.get_ticklabels()]\n",
        "[t.set_color('grey') for t in ax.yaxis.get_ticklabels()]\n",
        "\n",
        "plt.show()"
      ],
      "execution_count": 31,
      "outputs": [
        {
          "output_type": "display_data",
          "data": {
            "image/png": "[encoded data removed]",
            "text/plain": [
              "<Figure size 432x288 with 1 Axes>"
            ]
          },
          "metadata": {
            "tags": [],
            "needs_background": "dark"
          }
        }
      ]
    },
    {
      "cell_type": "markdown",
      "metadata": {
        "id": "COwKR6WEyfz-"
      },
      "source": [
        "Tutorias realizadas mensual por todos los tutores"
      ]
    },
    {
      "cell_type": "code",
      "metadata": {
        "colab": {
          "base_uri": "https://localhost:8080/",
          "height": 315
        },
        "id": "wGMmN3FC4S0w",
        "outputId": "19af7bd6-ff0d-49c0-a317-b2d74bd51d87"
      },
      "source": [
        "c_month = {'01': 'Jan', '02': 'Feb', '03': 'Mar', '04': 'Apr', '05': 'May','06': 'Jun', '07': 'Jul', '08': 'Aug', '09': 'Sep', '10': 'Oct', '11': 'Nov', '12': 'Dec'}\n",
        "# df1 = df.copy()\n",
        "# df1.set_index('Fecha',inplace=True)\n",
        "# df1.resample('M').sum()\n",
        "df_tuto_mouth = df.groupby(df['Fecha'].dt.strftime('%m'))['Usuario'].size().reset_index(name='Tutorias')\n",
        "# p = df.groupby(df['Fecha'].dt.strftime('m'),df['Tutor']).size()\n",
        "# type(df.iloc[0,0])\n",
        "# df_tuto_mouth.sort_values(by=['Fecha'], inplace=True, ignore_index=True)\n",
        "df_tuto_mouth['Mes'] = df_tuto_mouth['Fecha']\n",
        "df_tuto_mouth.drop('Fecha',axis=1)\n",
        "# df_tuto_mouth['Mes'] = df_tuto_mouth['Mes'].apply(lambda x: calendar.month_abbr[x])\n",
        "df_tuto_mouth['Mes'] = df_tuto_mouth['Mes'].apply(lambda x: c_month[x])\n",
        "df_tuto_mouth.drop('Fecha', axis=1, inplace=True)\n",
        "df_tuto_mouth.set_index('Mes', inplace=True)\n",
        "ax=df_tuto_mouth.plot(kind='bar',color='tomato')\n",
        "rects = ax.patches\n",
        "labels = df_tuto_mouth['Tutorias'].tolist()\n",
        "ax.set_title('Tutorias por mes',fontsize=18, color='midnightblue', fontweight='bold')\n",
        "ax.set_ylabel('Tutorias', fontsize=16,color='dimgray')\n",
        "ax.set_xlabel('Mes', fontsize=16,color='dimgray')\n",
        "maximo = df_tuto_mouth['Tutorias'].max()\n",
        "ax.set_ylim(0, maximo+maximo//6)\n",
        "for rect, label in zip(rects, labels):\n",
        "  height = rect.get_height()\n",
        "  ax.text(rect.get_x()+rect.get_width()/2, height, label, fontsize=14, ha='center', va='bottom', color='darkred')\n",
        "plt.show()\n"
      ],
      "execution_count": 33,
      "outputs": [
        {
          "output_type": "display_data",
          "data": {
            "image/png": "[encoded data removed]",
            "text/plain": [
              "<Figure size 432x288 with 1 Axes>"
            ]
          },
          "metadata": {
            "tags": [],
            "needs_background": "light"
          }
        }
      ]
    },
    {
      "cell_type": "markdown",
      "metadata": {
        "id": "Dwd9DfBlyrzf"
      },
      "source": [
        "Tutorias realizadas mensualmente por cada tutor"
      ]
    },
    {
      "cell_type": "code",
      "metadata": {
        "colab": {
          "base_uri": "https://localhost:8080/",
          "height": 1000
        },
        "id": "w6P834IQGEBL",
        "outputId": "cb7a04e8-6297-4546-c123-21cc0d9eab90"
      },
      "source": [
        "import calendar\n",
        "\n",
        "df['Mes'] = df['Fecha'].dt.month\n",
        "df_tt_st = df.groupby(['Tutor', 'Mes']).size().reset_index(name='Tutorias')\n",
        "df_tt_st['Mes'] = df_tt_st['Mes'].apply(lambda x: calendar.month_abbr[x] )\n",
        "df_tt_st.set_index(['Tutor','Mes'],inplace=True)\n",
        "# df_tt_st.reset_index(inplace=True)\n",
        "df_tt_st"
      ],
      "execution_count": 34,
      "outputs": [
        {
          "output_type": "execute_result",
          "data": {
            "text/html": [
              "<div>\n",
              "<style scoped>\n",
              "    .dataframe tbody tr th:only-of-type {\n",
              "        vertical-align: middle;\n",
              "    }\n",
              "\n",
              "    .dataframe tbody tr th {\n",
              "        vertical-align: top;\n",
              "    }\n",
              "\n",
              "    .dataframe thead th {\n",
              "        text-align: right;\n",
              "    }\n",
              "</style>\n",
              "<table border=\"1\" class=\"dataframe\">\n",
              "  <thead>\n",
              "    <tr style=\"text-align: right;\">\n",
              "      <th></th>\n",
              "      <th></th>\n",
              "      <th>Tutorias</th>\n",
              "    </tr>\n",
              "    <tr>\n",
              "      <th>Tutor</th>\n",
              "      <th>Mes</th>\n",
              "      <th></th>\n",
              "    </tr>\n",
              "  </thead>\n",
              "  <tbody>\n",
              "    <tr>\n",
              "      <th rowspan=\"6\" valign=\"top\">Angy Hidalgo Madrid</th>\n",
              "      <th>Feb</th>\n",
              "      <td>6</td>\n",
              "    </tr>\n",
              "    <tr>\n",
              "      <th>Mar</th>\n",
              "      <td>68</td>\n",
              "    </tr>\n",
              "    <tr>\n",
              "      <th>Apr</th>\n",
              "      <td>74</td>\n",
              "    </tr>\n",
              "    <tr>\n",
              "      <th>May</th>\n",
              "      <td>28</td>\n",
              "    </tr>\n",
              "    <tr>\n",
              "      <th>Jun</th>\n",
              "      <td>10</td>\n",
              "    </tr>\n",
              "    <tr>\n",
              "      <th>Jul</th>\n",
              "      <td>26</td>\n",
              "    </tr>\n",
              "    <tr>\n",
              "      <th rowspan=\"5\" valign=\"top\">Carolina Dominguez Sánchez</th>\n",
              "      <th>Mar</th>\n",
              "      <td>39</td>\n",
              "    </tr>\n",
              "    <tr>\n",
              "      <th>Apr</th>\n",
              "      <td>9</td>\n",
              "    </tr>\n",
              "    <tr>\n",
              "      <th>May</th>\n",
              "      <td>10</td>\n",
              "    </tr>\n",
              "    <tr>\n",
              "      <th>Jun</th>\n",
              "      <td>19</td>\n",
              "    </tr>\n",
              "    <tr>\n",
              "      <th>Jul</th>\n",
              "      <td>8</td>\n",
              "    </tr>\n",
              "    <tr>\n",
              "      <th rowspan=\"5\" valign=\"top\">Dana Paula Ortiz Charry</th>\n",
              "      <th>Mar</th>\n",
              "      <td>3</td>\n",
              "    </tr>\n",
              "    <tr>\n",
              "      <th>Apr</th>\n",
              "      <td>11</td>\n",
              "    </tr>\n",
              "    <tr>\n",
              "      <th>May</th>\n",
              "      <td>3</td>\n",
              "    </tr>\n",
              "    <tr>\n",
              "      <th>Jun</th>\n",
              "      <td>7</td>\n",
              "    </tr>\n",
              "    <tr>\n",
              "      <th>Jul</th>\n",
              "      <td>1</td>\n",
              "    </tr>\n",
              "    <tr>\n",
              "      <th rowspan=\"6\" valign=\"top\">Daniel Alejandro Saavedra</th>\n",
              "      <th>Feb</th>\n",
              "      <td>1</td>\n",
              "    </tr>\n",
              "    <tr>\n",
              "      <th>Mar</th>\n",
              "      <td>37</td>\n",
              "    </tr>\n",
              "    <tr>\n",
              "      <th>Apr</th>\n",
              "      <td>28</td>\n",
              "    </tr>\n",
              "    <tr>\n",
              "      <th>May</th>\n",
              "      <td>11</td>\n",
              "    </tr>\n",
              "    <tr>\n",
              "      <th>Jun</th>\n",
              "      <td>8</td>\n",
              "    </tr>\n",
              "    <tr>\n",
              "      <th>Jul</th>\n",
              "      <td>28</td>\n",
              "    </tr>\n",
              "    <tr>\n",
              "      <th rowspan=\"5\" valign=\"top\">Daniela Fernanda Herrera</th>\n",
              "      <th>Mar</th>\n",
              "      <td>9</td>\n",
              "    </tr>\n",
              "    <tr>\n",
              "      <th>Apr</th>\n",
              "      <td>20</td>\n",
              "    </tr>\n",
              "    <tr>\n",
              "      <th>May</th>\n",
              "      <td>9</td>\n",
              "    </tr>\n",
              "    <tr>\n",
              "      <th>Jun</th>\n",
              "      <td>2</td>\n",
              "    </tr>\n",
              "    <tr>\n",
              "      <th>Jul</th>\n",
              "      <td>14</td>\n",
              "    </tr>\n",
              "    <tr>\n",
              "      <th rowspan=\"5\" valign=\"top\">Lida Ángela Burbano</th>\n",
              "      <th>Feb</th>\n",
              "      <td>1</td>\n",
              "    </tr>\n",
              "    <tr>\n",
              "      <th>Mar</th>\n",
              "      <td>31</td>\n",
              "    </tr>\n",
              "    <tr>\n",
              "      <th>Apr</th>\n",
              "      <td>63</td>\n",
              "    </tr>\n",
              "    <tr>\n",
              "      <th>May</th>\n",
              "      <td>41</td>\n",
              "    </tr>\n",
              "    <tr>\n",
              "      <th>Jun</th>\n",
              "      <td>17</td>\n",
              "    </tr>\n",
              "    <tr>\n",
              "      <th rowspan=\"5\" valign=\"top\">Luis Hinojosa Zambrano</th>\n",
              "      <th>Mar</th>\n",
              "      <td>27</td>\n",
              "    </tr>\n",
              "    <tr>\n",
              "      <th>Apr</th>\n",
              "      <td>21</td>\n",
              "    </tr>\n",
              "    <tr>\n",
              "      <th>May</th>\n",
              "      <td>11</td>\n",
              "    </tr>\n",
              "    <tr>\n",
              "      <th>Jun</th>\n",
              "      <td>12</td>\n",
              "    </tr>\n",
              "    <tr>\n",
              "      <th>Jul</th>\n",
              "      <td>16</td>\n",
              "    </tr>\n",
              "    <tr>\n",
              "      <th rowspan=\"6\" valign=\"top\">Oscar Leonel Sánchez</th>\n",
              "      <th>Feb</th>\n",
              "      <td>2</td>\n",
              "    </tr>\n",
              "    <tr>\n",
              "      <th>Mar</th>\n",
              "      <td>32</td>\n",
              "    </tr>\n",
              "    <tr>\n",
              "      <th>Apr</th>\n",
              "      <td>36</td>\n",
              "    </tr>\n",
              "    <tr>\n",
              "      <th>May</th>\n",
              "      <td>30</td>\n",
              "    </tr>\n",
              "    <tr>\n",
              "      <th>Jun</th>\n",
              "      <td>22</td>\n",
              "    </tr>\n",
              "    <tr>\n",
              "      <th>Jul</th>\n",
              "      <td>16</td>\n",
              "    </tr>\n",
              "    <tr>\n",
              "      <th rowspan=\"5\" valign=\"top\">Tatiana Bedoya</th>\n",
              "      <th>Mar</th>\n",
              "      <td>20</td>\n",
              "    </tr>\n",
              "    <tr>\n",
              "      <th>Apr</th>\n",
              "      <td>41</td>\n",
              "    </tr>\n",
              "    <tr>\n",
              "      <th>May</th>\n",
              "      <td>1</td>\n",
              "    </tr>\n",
              "    <tr>\n",
              "      <th>Jun</th>\n",
              "      <td>21</td>\n",
              "    </tr>\n",
              "    <tr>\n",
              "      <th>Jul</th>\n",
              "      <td>16</td>\n",
              "    </tr>\n",
              "    <tr>\n",
              "      <th rowspan=\"6\" valign=\"top\">William Eduardo Chautá</th>\n",
              "      <th>Feb</th>\n",
              "      <td>1</td>\n",
              "    </tr>\n",
              "    <tr>\n",
              "      <th>Mar</th>\n",
              "      <td>22</td>\n",
              "    </tr>\n",
              "    <tr>\n",
              "      <th>Apr</th>\n",
              "      <td>67</td>\n",
              "    </tr>\n",
              "    <tr>\n",
              "      <th>May</th>\n",
              "      <td>17</td>\n",
              "    </tr>\n",
              "    <tr>\n",
              "      <th>Jun</th>\n",
              "      <td>8</td>\n",
              "    </tr>\n",
              "    <tr>\n",
              "      <th>Jul</th>\n",
              "      <td>36</td>\n",
              "    </tr>\n",
              "  </tbody>\n",
              "</table>\n",
              "</div>"
            ],
            "text/plain": [
              "                                Tutorias\n",
              "Tutor                      Mes          \n",
              "Angy Hidalgo Madrid        Feb         6\n",
              "                           Mar        68\n",
              "                           Apr        74\n",
              "                           May        28\n",
              "                           Jun        10\n",
              "                           Jul        26\n",
              "Carolina Dominguez Sánchez Mar        39\n",
              "                           Apr         9\n",
              "                           May        10\n",
              "                           Jun        19\n",
              "                           Jul         8\n",
              "Dana Paula Ortiz Charry    Mar         3\n",
              "                           Apr        11\n",
              "                           May         3\n",
              "                           Jun         7\n",
              "                           Jul         1\n",
              "Daniel Alejandro Saavedra  Feb         1\n",
              "                           Mar        37\n",
              "                           Apr        28\n",
              "                           May        11\n",
              "                           Jun         8\n",
              "                           Jul        28\n",
              "Daniela Fernanda Herrera   Mar         9\n",
              "                           Apr        20\n",
              "                           May         9\n",
              "                           Jun         2\n",
              "                           Jul        14\n",
              "Lida Ángela Burbano        Feb         1\n",
              "                           Mar        31\n",
              "                           Apr        63\n",
              "                           May        41\n",
              "                           Jun        17\n",
              "Luis Hinojosa Zambrano     Mar        27\n",
              "                           Apr        21\n",
              "                           May        11\n",
              "                           Jun        12\n",
              "                           Jul        16\n",
              "Oscar Leonel Sánchez       Feb         2\n",
              "                           Mar        32\n",
              "                           Apr        36\n",
              "                           May        30\n",
              "                           Jun        22\n",
              "                           Jul        16\n",
              "Tatiana Bedoya             Mar        20\n",
              "                           Apr        41\n",
              "                           May         1\n",
              "                           Jun        21\n",
              "                           Jul        16\n",
              "William Eduardo Chautá     Feb         1\n",
              "                           Mar        22\n",
              "                           Apr        67\n",
              "                           May        17\n",
              "                           Jun         8\n",
              "                           Jul        36"
            ]
          },
          "metadata": {
            "tags": []
          },
          "execution_count": 34
        }
      ]
    },
    {
      "cell_type": "code",
      "metadata": {
        "id": "uZ9I2IpPw83E"
      },
      "source": [
        "# df_tt_st.rename(columns=df_tt_st.iloc[0]).drop(df.index[0])\n",
        "df_tt_st.reset_index(inplace=True)"
      ],
      "execution_count": 35,
      "outputs": []
    },
    {
      "cell_type": "code",
      "metadata": {
        "colab": {
          "base_uri": "https://localhost:8080/"
        },
        "id": "_nmW0tHXVB_a",
        "outputId": "145d200b-d2c3-47af-f4e0-e948676037f5"
      },
      "source": [
        "tutor_list = df['Tutor'].unique()\n",
        "for i in range(len(tutor_list)):\n",
        "  print(i, ' : ', tutor_list[i])"
      ],
      "execution_count": 36,
      "outputs": [
        {
          "output_type": "stream",
          "text": [
            "0  :  Oscar Leonel Sánchez\n",
            "1  :  Angy Hidalgo Madrid\n",
            "2  :  Lida Ángela Burbano\n",
            "3  :  Daniel Alejandro Saavedra\n",
            "4  :  William Eduardo Chautá\n",
            "5  :  Luis Hinojosa Zambrano\n",
            "6  :  Carolina Dominguez Sánchez\n",
            "7  :  Tatiana Bedoya\n",
            "8  :  Dana Paula Ortiz Charry\n",
            "9  :  Daniela Fernanda Herrera\n"
          ],
          "name": "stdout"
        }
      ]
    },
    {
      "cell_type": "markdown",
      "metadata": {
        "id": "RxGOLuVVy6Rz"
      },
      "source": [
        "Tutorias mensuales realizadas por el tutor *num_of_tutor*"
      ]
    },
    {
      "cell_type": "code",
      "metadata": {
        "colab": {
          "base_uri": "https://localhost:8080/",
          "height": 268
        },
        "id": "UnyzAitcmxEm",
        "outputId": "3205c4ce-989d-40b3-ef38-1bc1f5a21917"
      },
      "source": [
        "num_of_tutor = 0\n",
        "tutor = tutor_list[num_of_tutor]\n",
        "# t_tutor = df_tt_st[df_tt_st['Tutor']==tutor].drop('Tutor', axis=1)\n",
        "t_tutor = df_tt_st[df_tt_st['Tutor']==tutor]\n",
        "t_tutor = t_tutor.drop('Tutor', axis=1)\n",
        "t_tutor.set_index(['Mes'], inplace=True)\n",
        "t_tutor"
      ],
      "execution_count": 38,
      "outputs": [
        {
          "output_type": "execute_result",
          "data": {
            "text/html": [
              "<div>\n",
              "<style scoped>\n",
              "    .dataframe tbody tr th:only-of-type {\n",
              "        vertical-align: middle;\n",
              "    }\n",
              "\n",
              "    .dataframe tbody tr th {\n",
              "        vertical-align: top;\n",
              "    }\n",
              "\n",
              "    .dataframe thead th {\n",
              "        text-align: right;\n",
              "    }\n",
              "</style>\n",
              "<table border=\"1\" class=\"dataframe\">\n",
              "  <thead>\n",
              "    <tr style=\"text-align: right;\">\n",
              "      <th></th>\n",
              "      <th>Tutorias</th>\n",
              "    </tr>\n",
              "    <tr>\n",
              "      <th>Mes</th>\n",
              "      <th></th>\n",
              "    </tr>\n",
              "  </thead>\n",
              "  <tbody>\n",
              "    <tr>\n",
              "      <th>Feb</th>\n",
              "      <td>2</td>\n",
              "    </tr>\n",
              "    <tr>\n",
              "      <th>Mar</th>\n",
              "      <td>32</td>\n",
              "    </tr>\n",
              "    <tr>\n",
              "      <th>Apr</th>\n",
              "      <td>36</td>\n",
              "    </tr>\n",
              "    <tr>\n",
              "      <th>May</th>\n",
              "      <td>30</td>\n",
              "    </tr>\n",
              "    <tr>\n",
              "      <th>Jun</th>\n",
              "      <td>22</td>\n",
              "    </tr>\n",
              "    <tr>\n",
              "      <th>Jul</th>\n",
              "      <td>16</td>\n",
              "    </tr>\n",
              "  </tbody>\n",
              "</table>\n",
              "</div>"
            ],
            "text/plain": [
              "     Tutorias\n",
              "Mes          \n",
              "Feb         2\n",
              "Mar        32\n",
              "Apr        36\n",
              "May        30\n",
              "Jun        22\n",
              "Jul        16"
            ]
          },
          "metadata": {
            "tags": []
          },
          "execution_count": 38
        }
      ]
    },
    {
      "cell_type": "markdown",
      "metadata": {
        "id": "Ay3bmMUN1Eej"
      },
      "source": [
        "Gráfico de barras de las tutorías mensuales realizadas por el tutor *num_of_tutor* "
      ]
    },
    {
      "cell_type": "code",
      "metadata": {
        "colab": {
          "base_uri": "https://localhost:8080/",
          "height": 313
        },
        "id": "C9olwm1inBBZ",
        "outputId": "7473db29-19ff-49a0-a558-aba3e368023e"
      },
      "source": [
        "ax = t_tutor.plot(kind='bar',color='chocolate')\n",
        "rects = ax.patches\n",
        "ax.set_title('Tutorías por mes - %s'%tutor, fontsize=16, color='darkred', fontweight='normal')\n",
        "ax.set_ylabel('Tutorias', fontsize=14, color='darkred')\n",
        "ax.set_xlabel('Mes', fontsize=14, color='darkred')\n",
        "plt.ylim(0,t_tutor['Tutorias'].max()+t_tutor['Tutorias'].max()//6)\n",
        "# Make some labels.\n",
        "labels = t_tutor['Tutorias'].tolist()\n",
        "\n",
        "for rect, label in zip(rects, labels):\n",
        "    height = rect.get_height()\n",
        "    ax.text(rect.get_x() + rect.get_width() / 2, height , label,\n",
        "            ha='center', va='bottom', color='darkred')\n",
        "    \n",
        "ax.spines['bottom'].set_color('grey')\n",
        "ax.spines['top'].set_color('grey')\n",
        "ax.spines['right'].set_color('grey')\n",
        "ax.spines['left'].set_color('grey')\n",
        "ax.tick_params(axis='y', color='grey')\n",
        "ax.tick_params(axis='x', color='grey')\n",
        "# [t.set_color('red') for t in ax.xaxis.get_ticklines()]\n",
        "[t.set_color('grey') for t in ax.xaxis.get_ticklabels()]\n",
        "[t.set_color('grey') for t in ax.yaxis.get_ticklabels()]\n",
        "ax.set_rasterized(True)\n",
        "plt.savefig(\"fig1.eps\",bbox_inches='tight')\n",
        "plt.show()"
      ],
      "execution_count": 40,
      "outputs": [
        {
          "output_type": "display_data",
          "data": {
            "image/png": "[encoded data removed]",
            "text/plain": [
              "<Figure size 432x288 with 1 Axes>"
            ]
          },
          "metadata": {
            "tags": [],
            "needs_background": "dark"
          }
        }
      ]
    }
  ]
}